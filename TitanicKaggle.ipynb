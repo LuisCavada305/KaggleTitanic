{
 "cells": [
  {
   "cell_type": "code",
   "execution_count": 1,
   "metadata": {
    "_cell_guid": "b1076dfc-b9ad-4769-8c92-a6c4dae69d19",
    "_uuid": "8f2839f25d086af736a60e9eeb907d3b93b6e0e5",
    "execution": {
     "iopub.execute_input": "2024-12-03T01:22:58.041061Z",
     "iopub.status.busy": "2024-12-03T01:22:58.040646Z",
     "iopub.status.idle": "2024-12-03T01:22:58.050627Z",
     "shell.execute_reply": "2024-12-03T01:22:58.049202Z",
     "shell.execute_reply.started": "2024-12-03T01:22:58.041023Z"
    },
    "trusted": true
   },
   "outputs": [],
   "source": [
    "# This Python 3 environment comes with many helpful analytics libraries installed\n",
    "# It is defined by the kaggle/python Docker image: https://github.com/kaggle/docker-python\n",
    "# For example, here's several helpful packages to load\n",
    "\n",
    "import numpy as np # linear algebra\n",
    "import pandas as pd # data processing, CSV file I/O (e.g. pd.read_csv)\n",
    "\n",
    "# Input data files are available in the read-only \"../input/\" directory\n",
    "# For example, running this (by clicking run or pressing Shift+Enter) will list all files under the input directory\n",
    "\n",
    "import os\n",
    "for dirname, _, filenames in os.walk('/kaggle/input'):\n",
    "    for filename in filenames:\n",
    "        print(os.path.join(dirname, filename))\n",
    "\n",
    "# You can write up to 20GB to the current directory (/kaggle/working/) that gets preserved as output when you create a version using \"Save & Run All\" \n",
    "# You can also write temporary files to /kaggle/temp/, but they won't be saved outside of the current session"
   ]
  },
  {
   "cell_type": "code",
   "execution_count": 2,
   "metadata": {
    "execution": {
     "iopub.execute_input": "2024-12-03T01:22:58.054261Z",
     "iopub.status.busy": "2024-12-03T01:22:58.052938Z",
     "iopub.status.idle": "2024-12-03T01:22:58.067714Z",
     "shell.execute_reply": "2024-12-03T01:22:58.066342Z",
     "shell.execute_reply.started": "2024-12-03T01:22:58.054164Z"
    },
    "trusted": true
   },
   "outputs": [],
   "source": [
    "import matplotlib.pyplot as plt\n",
    "import math "
   ]
  },
  {
   "cell_type": "markdown",
   "metadata": {},
   "source": [
    "# 1. Introduction\n",
    "This is a Machine Learning application to try to predict if a given passenger of the Titanic survived. This is also my first Kaggle competition!"
   ]
  },
  {
   "cell_type": "markdown",
   "metadata": {},
   "source": [
    "## 2. The dataset\n",
    "First thing we are going to do is analyse the dataset. To do so, we are going to use the pandas library."
   ]
  },
  {
   "cell_type": "code",
   "execution_count": 3,
   "metadata": {
    "execution": {
     "iopub.execute_input": "2024-12-03T01:22:58.071380Z",
     "iopub.status.busy": "2024-12-03T01:22:58.070695Z",
     "iopub.status.idle": "2024-12-03T01:22:58.112487Z",
     "shell.execute_reply": "2024-12-03T01:22:58.110480Z",
     "shell.execute_reply.started": "2024-12-03T01:22:58.071317Z"
    },
    "trusted": true
   },
   "outputs": [
    {
     "data": {
      "text/html": [
       "<div>\n",
       "<style scoped>\n",
       "    .dataframe tbody tr th:only-of-type {\n",
       "        vertical-align: middle;\n",
       "    }\n",
       "\n",
       "    .dataframe tbody tr th {\n",
       "        vertical-align: top;\n",
       "    }\n",
       "\n",
       "    .dataframe thead th {\n",
       "        text-align: right;\n",
       "    }\n",
       "</style>\n",
       "<table border=\"1\" class=\"dataframe\">\n",
       "  <thead>\n",
       "    <tr style=\"text-align: right;\">\n",
       "      <th></th>\n",
       "      <th>PassengerId</th>\n",
       "      <th>Survived</th>\n",
       "      <th>Pclass</th>\n",
       "      <th>Name</th>\n",
       "      <th>Sex</th>\n",
       "      <th>Age</th>\n",
       "      <th>SibSp</th>\n",
       "      <th>Parch</th>\n",
       "      <th>Ticket</th>\n",
       "      <th>Fare</th>\n",
       "      <th>Cabin</th>\n",
       "      <th>Embarked</th>\n",
       "    </tr>\n",
       "  </thead>\n",
       "  <tbody>\n",
       "    <tr>\n",
       "      <th>0</th>\n",
       "      <td>1</td>\n",
       "      <td>0</td>\n",
       "      <td>3</td>\n",
       "      <td>Braund, Mr. Owen Harris</td>\n",
       "      <td>male</td>\n",
       "      <td>22.0</td>\n",
       "      <td>1</td>\n",
       "      <td>0</td>\n",
       "      <td>A/5 21171</td>\n",
       "      <td>7.2500</td>\n",
       "      <td>NaN</td>\n",
       "      <td>S</td>\n",
       "    </tr>\n",
       "    <tr>\n",
       "      <th>1</th>\n",
       "      <td>2</td>\n",
       "      <td>1</td>\n",
       "      <td>1</td>\n",
       "      <td>Cumings, Mrs. John Bradley (Florence Briggs Th...</td>\n",
       "      <td>female</td>\n",
       "      <td>38.0</td>\n",
       "      <td>1</td>\n",
       "      <td>0</td>\n",
       "      <td>PC 17599</td>\n",
       "      <td>71.2833</td>\n",
       "      <td>C85</td>\n",
       "      <td>C</td>\n",
       "    </tr>\n",
       "    <tr>\n",
       "      <th>2</th>\n",
       "      <td>3</td>\n",
       "      <td>1</td>\n",
       "      <td>3</td>\n",
       "      <td>Heikkinen, Miss. Laina</td>\n",
       "      <td>female</td>\n",
       "      <td>26.0</td>\n",
       "      <td>0</td>\n",
       "      <td>0</td>\n",
       "      <td>STON/O2. 3101282</td>\n",
       "      <td>7.9250</td>\n",
       "      <td>NaN</td>\n",
       "      <td>S</td>\n",
       "    </tr>\n",
       "    <tr>\n",
       "      <th>3</th>\n",
       "      <td>4</td>\n",
       "      <td>1</td>\n",
       "      <td>1</td>\n",
       "      <td>Futrelle, Mrs. Jacques Heath (Lily May Peel)</td>\n",
       "      <td>female</td>\n",
       "      <td>35.0</td>\n",
       "      <td>1</td>\n",
       "      <td>0</td>\n",
       "      <td>113803</td>\n",
       "      <td>53.1000</td>\n",
       "      <td>C123</td>\n",
       "      <td>S</td>\n",
       "    </tr>\n",
       "    <tr>\n",
       "      <th>4</th>\n",
       "      <td>5</td>\n",
       "      <td>0</td>\n",
       "      <td>3</td>\n",
       "      <td>Allen, Mr. William Henry</td>\n",
       "      <td>male</td>\n",
       "      <td>35.0</td>\n",
       "      <td>0</td>\n",
       "      <td>0</td>\n",
       "      <td>373450</td>\n",
       "      <td>8.0500</td>\n",
       "      <td>NaN</td>\n",
       "      <td>S</td>\n",
       "    </tr>\n",
       "    <tr>\n",
       "      <th>...</th>\n",
       "      <td>...</td>\n",
       "      <td>...</td>\n",
       "      <td>...</td>\n",
       "      <td>...</td>\n",
       "      <td>...</td>\n",
       "      <td>...</td>\n",
       "      <td>...</td>\n",
       "      <td>...</td>\n",
       "      <td>...</td>\n",
       "      <td>...</td>\n",
       "      <td>...</td>\n",
       "      <td>...</td>\n",
       "    </tr>\n",
       "    <tr>\n",
       "      <th>886</th>\n",
       "      <td>887</td>\n",
       "      <td>0</td>\n",
       "      <td>2</td>\n",
       "      <td>Montvila, Rev. Juozas</td>\n",
       "      <td>male</td>\n",
       "      <td>27.0</td>\n",
       "      <td>0</td>\n",
       "      <td>0</td>\n",
       "      <td>211536</td>\n",
       "      <td>13.0000</td>\n",
       "      <td>NaN</td>\n",
       "      <td>S</td>\n",
       "    </tr>\n",
       "    <tr>\n",
       "      <th>887</th>\n",
       "      <td>888</td>\n",
       "      <td>1</td>\n",
       "      <td>1</td>\n",
       "      <td>Graham, Miss. Margaret Edith</td>\n",
       "      <td>female</td>\n",
       "      <td>19.0</td>\n",
       "      <td>0</td>\n",
       "      <td>0</td>\n",
       "      <td>112053</td>\n",
       "      <td>30.0000</td>\n",
       "      <td>B42</td>\n",
       "      <td>S</td>\n",
       "    </tr>\n",
       "    <tr>\n",
       "      <th>888</th>\n",
       "      <td>889</td>\n",
       "      <td>0</td>\n",
       "      <td>3</td>\n",
       "      <td>Johnston, Miss. Catherine Helen \"Carrie\"</td>\n",
       "      <td>female</td>\n",
       "      <td>NaN</td>\n",
       "      <td>1</td>\n",
       "      <td>2</td>\n",
       "      <td>W./C. 6607</td>\n",
       "      <td>23.4500</td>\n",
       "      <td>NaN</td>\n",
       "      <td>S</td>\n",
       "    </tr>\n",
       "    <tr>\n",
       "      <th>889</th>\n",
       "      <td>890</td>\n",
       "      <td>1</td>\n",
       "      <td>1</td>\n",
       "      <td>Behr, Mr. Karl Howell</td>\n",
       "      <td>male</td>\n",
       "      <td>26.0</td>\n",
       "      <td>0</td>\n",
       "      <td>0</td>\n",
       "      <td>111369</td>\n",
       "      <td>30.0000</td>\n",
       "      <td>C148</td>\n",
       "      <td>C</td>\n",
       "    </tr>\n",
       "    <tr>\n",
       "      <th>890</th>\n",
       "      <td>891</td>\n",
       "      <td>0</td>\n",
       "      <td>3</td>\n",
       "      <td>Dooley, Mr. Patrick</td>\n",
       "      <td>male</td>\n",
       "      <td>32.0</td>\n",
       "      <td>0</td>\n",
       "      <td>0</td>\n",
       "      <td>370376</td>\n",
       "      <td>7.7500</td>\n",
       "      <td>NaN</td>\n",
       "      <td>Q</td>\n",
       "    </tr>\n",
       "  </tbody>\n",
       "</table>\n",
       "<p>891 rows × 12 columns</p>\n",
       "</div>"
      ],
      "text/plain": [
       "     PassengerId  Survived  Pclass  \\\n",
       "0              1         0       3   \n",
       "1              2         1       1   \n",
       "2              3         1       3   \n",
       "3              4         1       1   \n",
       "4              5         0       3   \n",
       "..           ...       ...     ...   \n",
       "886          887         0       2   \n",
       "887          888         1       1   \n",
       "888          889         0       3   \n",
       "889          890         1       1   \n",
       "890          891         0       3   \n",
       "\n",
       "                                                  Name     Sex   Age  SibSp  \\\n",
       "0                              Braund, Mr. Owen Harris    male  22.0      1   \n",
       "1    Cumings, Mrs. John Bradley (Florence Briggs Th...  female  38.0      1   \n",
       "2                               Heikkinen, Miss. Laina  female  26.0      0   \n",
       "3         Futrelle, Mrs. Jacques Heath (Lily May Peel)  female  35.0      1   \n",
       "4                             Allen, Mr. William Henry    male  35.0      0   \n",
       "..                                                 ...     ...   ...    ...   \n",
       "886                              Montvila, Rev. Juozas    male  27.0      0   \n",
       "887                       Graham, Miss. Margaret Edith  female  19.0      0   \n",
       "888           Johnston, Miss. Catherine Helen \"Carrie\"  female   NaN      1   \n",
       "889                              Behr, Mr. Karl Howell    male  26.0      0   \n",
       "890                                Dooley, Mr. Patrick    male  32.0      0   \n",
       "\n",
       "     Parch            Ticket     Fare Cabin Embarked  \n",
       "0        0         A/5 21171   7.2500   NaN        S  \n",
       "1        0          PC 17599  71.2833   C85        C  \n",
       "2        0  STON/O2. 3101282   7.9250   NaN        S  \n",
       "3        0            113803  53.1000  C123        S  \n",
       "4        0            373450   8.0500   NaN        S  \n",
       "..     ...               ...      ...   ...      ...  \n",
       "886      0            211536  13.0000   NaN        S  \n",
       "887      0            112053  30.0000   B42        S  \n",
       "888      2        W./C. 6607  23.4500   NaN        S  \n",
       "889      0            111369  30.0000  C148        C  \n",
       "890      0            370376   7.7500   NaN        Q  \n",
       "\n",
       "[891 rows x 12 columns]"
      ]
     },
     "metadata": {},
     "output_type": "display_data"
    }
   ],
   "source": [
    "df = pd.read_csv(\"train.csv\")\n",
    "display(df)"
   ]
  },
  {
   "cell_type": "markdown",
   "metadata": {},
   "source": [
    "Note here that some columns are useless for the analysis, such as the names of each person, and others are not numerical, which will have to be transformed."
   ]
  },
  {
   "cell_type": "markdown",
   "metadata": {},
   "source": [
    "## 2.1. Transforming the Dataset\n",
    "I will use a Multivariate Logistic Regression to analyse this problem. To to so, I will implement the cost function and gradient descent from scratch. To do so, I will make some conventions:\n",
    "* The names of each passenger and their ticket numbers will not be considered on the analysis;\n",
    "* Sex will be encoded as follows: Sex = 1 if passenger is a male; Sex = 0 if passenger is a female;\n",
    "* Embarked will be be encoded as follows: Embarked = 0 if C, 1 if Q and 2 if S;\n",
    "* The cabins will be encoded as two different elements, one for the letter (CabinY) and one for the numbers (CabinX) in it.\n",
    "  "
   ]
  },
  {
   "cell_type": "code",
   "execution_count": 4,
   "metadata": {
    "execution": {
     "iopub.execute_input": "2024-12-03T01:22:58.115349Z",
     "iopub.status.busy": "2024-12-03T01:22:58.114793Z",
     "iopub.status.idle": "2024-12-03T01:22:58.125748Z",
     "shell.execute_reply": "2024-12-03T01:22:58.124258Z",
     "shell.execute_reply.started": "2024-12-03T01:22:58.115304Z"
    },
    "trusted": true
   },
   "outputs": [],
   "source": [
    "def TransformDF(df):\n",
    "    # Transform the values in each column:\n",
    "    df['Sex'] = df['Sex'].map({'male' : 1, 'female' : 0})\n",
    "    df['Embarked'] = df['Embarked'].map({'C' : 0, 'Q' : 1, 'S' : 2})\n",
    "    \n",
    "    # Take the letters and numbers in each cabin and transform it:\n",
    "    df['CabinY'] = df['Cabin'].str.extract(r'([A-Za-z]+)')  \n",
    "    df['CabinX'] = df['Cabin'].str.extract(r'(\\d+)') \n",
    "    df['CabinY'] = df['CabinY'].map({'A' : 0, 'B' : 1, 'C' : 2, 'D' : 3, 'E' : 4, 'F' : 5, 'G' : 6})\n",
    "    \n",
    "    # Fill the NaN in the columns with the average as an estimator for them:\n",
    "    df['Embarked'] = df['Embarked'].fillna(df['Embarked'].mean())\n",
    "    df['Age'] = df['Age'].fillna(df['Age'].mean()) \n",
    "    df['CabinX'] = df['CabinX'].fillna(0).astype(int)\n",
    "    df['CabinX'] = df['CabinX'].apply(lambda x : x if x != 0 else df['CabinX'].mean())\n",
    "    df['CabinY'] = df['CabinY'].fillna(df['CabinY'].mean()).astype(int)\n",
    "    "
   ]
  },
  {
   "cell_type": "markdown",
   "metadata": {},
   "source": [
    "Now that the DataFrame is ready, I will make a function that returns the input and target vectors given the DataFrame."
   ]
  },
  {
   "cell_type": "code",
   "execution_count": 5,
   "metadata": {
    "execution": {
     "iopub.execute_input": "2024-12-03T01:22:58.131014Z",
     "iopub.status.busy": "2024-12-03T01:22:58.130502Z",
     "iopub.status.idle": "2024-12-03T01:22:58.160260Z",
     "shell.execute_reply": "2024-12-03T01:22:58.159040Z",
     "shell.execute_reply.started": "2024-12-03T01:22:58.130963Z"
    },
    "trusted": true
   },
   "outputs": [],
   "source": [
    "def MakeDataset(df):\n",
    "    df_filtered_X = df.drop(['Name', 'PassengerId', 'Ticket', 'Survived', 'Cabin'], axis=1)\n",
    "    X_training = df_filtered_X.to_numpy()\n",
    "    Y_training = df['Survived'].to_numpy().reshape(-1)\n",
    "    \n",
    "    return X_training, Y_training"
   ]
  },
  {
   "cell_type": "code",
   "execution_count": 6,
   "metadata": {
    "execution": {
     "iopub.execute_input": "2024-12-03T01:22:58.162468Z",
     "iopub.status.busy": "2024-12-03T01:22:58.161897Z",
     "iopub.status.idle": "2024-12-03T01:22:58.222348Z",
     "shell.execute_reply": "2024-12-03T01:22:58.220488Z",
     "shell.execute_reply.started": "2024-12-03T01:22:58.162413Z"
    },
    "trusted": true
   },
   "outputs": [
    {
     "name": "stdout",
     "output_type": "stream",
     "text": [
      "(891, 9)\n",
      "(891,)\n"
     ]
    }
   ],
   "source": [
    "TransformDF(df)\n",
    "X_train, Y_train = MakeDataset(df)\n",
    "print(X_train.shape)\n",
    "print(Y_train.shape)"
   ]
  },
  {
   "cell_type": "markdown",
   "metadata": {},
   "source": [
    "## 3. The Algorithm\n",
    "I will now begin building the Logistic Regression algorithm. This algorithm will be based off of the cost function \n",
    "$$ J(\\mathbf{w},b) = \\frac{1}{m}\\sum_{i=0}^{m-1} \\left[ loss(f_{\\mathbf{w},b}(\\mathbf{x}^{(i)}), y^{(i)}) \\right] \\tag{1}$$\n",
    "with\n",
    "\n",
    "$$ loss(f_{\\mathbf{w},b}(\\mathbf{x}^{(i)}), y^{(i)}) = (-y^{(i)} \\log\\left(f_{\\mathbf{w},b}\\left( \\mathbf{x}^{(i)} \\right) \\right) - \\left( 1 - y^{(i)}\\right) \\log \\left( 1 - f_{\\mathbf{w},b}\\left( \\mathbf{x}^{(i)} \\right) \\right) \\tag{2} $$\n",
    "\n",
    "and \n",
    "$ f_{\\mathbf{w},b}(\\mathbf{x}^{(i)}) = sigmoid(z_{\\mathbf{w},b}(\\mathbf{x}^{(i)})) $\n"
   ]
  },
  {
   "cell_type": "code",
   "execution_count": 7,
   "metadata": {
    "execution": {
     "iopub.execute_input": "2024-12-03T01:22:58.234253Z",
     "iopub.status.busy": "2024-12-03T01:22:58.233489Z",
     "iopub.status.idle": "2024-12-03T01:22:58.246534Z",
     "shell.execute_reply": "2024-12-03T01:22:58.245255Z",
     "shell.execute_reply.started": "2024-12-03T01:22:58.234182Z"
    },
    "trusted": true
   },
   "outputs": [],
   "source": [
    "def sigmoid(z) :\n",
    "    return 1 / (1 + np.exp(-z))\n",
    "def compute_cost(X, y, w, b, lambda_):\n",
    "    m, n = X.shape\n",
    "    z = np.dot(X, w) + b\n",
    "    f = sigmoid(z)\n",
    "    cost = (-y * np.log(f) - (1 - y) * np.log(1 - f)).mean()\n",
    "    # Add regularization to cost function\n",
    "    cost += (lambda_ / (2 * m)) * np.sum(np.square(w))\n",
    "    return cost"
   ]
  },
  {
   "cell_type": "markdown",
   "metadata": {},
   "source": [
    "Now I will program the gradient descent: $$\\begin{align*}& \\text{repeat until convergence:} \\; \\lbrace \\newline \\; & b := b -  \\alpha \\frac{\\partial J(\\mathbf{w},b)}{\\partial b} \\newline       \\; & w_j := w_j -  \\alpha \\frac{\\partial J(\\mathbf{w},b)}{\\partial w_j} \\tag{1}  \\; & \\text{for j := 0..n-1}\\newline & \\rbrace\\end{align*}$$"
   ]
  },
  {
   "cell_type": "code",
   "execution_count": 8,
   "metadata": {
    "execution": {
     "iopub.execute_input": "2024-12-03T01:22:58.248987Z",
     "iopub.status.busy": "2024-12-03T01:22:58.248393Z",
     "iopub.status.idle": "2024-12-03T01:22:58.263233Z",
     "shell.execute_reply": "2024-12-03T01:22:58.261989Z",
     "shell.execute_reply.started": "2024-12-03T01:22:58.248931Z"
    },
    "trusted": true
   },
   "outputs": [],
   "source": [
    "def compute_gradient(X, y, w, b, lambda_):\n",
    "    m, n = X.shape\n",
    "    z = np.dot(X, w) + b\n",
    "    f = sigmoid(z)\n",
    "    dj_db = (f - y).mean()\n",
    "    dj_dw = np.dot(X.T, (f - y)) / m\n",
    "    # Regularization for the weights\n",
    "    dj_dw += (lambda_ / m) * w\n",
    "    return dj_db, dj_dw\n",
    "\n",
    "\n",
    "def gradient_descent(X, y, w_in, b_in, cost_function, gradient_function, alpha, num_iters, lambda_):\n",
    "    m = len(X)\n",
    "    J_history = []\n",
    "    w_history = []\n",
    "    \n",
    "    w = w_in\n",
    "    b = b_in\n",
    "    \n",
    "    for i in range(num_iters):\n",
    "        dj_db, dj_dw = gradient_function(X, y, w, b, lambda_)\n",
    "        w -= alpha * dj_dw\n",
    "        b -= alpha * dj_db\n",
    "        cost = cost_function(X, y, w, b, lambda_)\n",
    "        J_history.append(cost)\n",
    "        \n",
    "        if i % (num_iters // 10) == 0 or i == num_iters - 1:\n",
    "            w_history.append(w)\n",
    "            print(f\"Iteration {i}: Cost {cost:.4f}\")\n",
    "    \n",
    "    return w, b, J_history, w_history"
   ]
  },
  {
   "cell_type": "markdown",
   "metadata": {},
   "source": [
    "## 4. Training the model\n",
    "Let us now train the model."
   ]
  },
  {
   "cell_type": "code",
   "execution_count": 9,
   "metadata": {
    "execution": {
     "iopub.execute_input": "2024-12-03T01:22:58.264893Z",
     "iopub.status.busy": "2024-12-03T01:22:58.264487Z",
     "iopub.status.idle": "2024-12-03T01:22:59.560786Z",
     "shell.execute_reply": "2024-12-03T01:22:59.558685Z",
     "shell.execute_reply.started": "2024-12-03T01:22:58.264857Z"
    },
    "trusted": true
   },
   "outputs": [
    {
     "name": "stdout",
     "output_type": "stream",
     "text": [
      "Iteration 0: Cost 2.6529\n",
      "Iteration 1000: Cost 1.0044\n",
      "Iteration 2000: Cost 0.8772\n"
     ]
    },
    {
     "name": "stderr",
     "output_type": "stream",
     "text": [
      "C:\\Users\\Pc\\AppData\\Local\\Temp\\ipykernel_23064\\725365770.py:7: RuntimeWarning: divide by zero encountered in log\n",
      "  cost = (-y * np.log(f) - (1 - y) * np.log(1 - f)).mean()\n",
      "C:\\Users\\Pc\\AppData\\Local\\Temp\\ipykernel_23064\\725365770.py:7: RuntimeWarning: invalid value encountered in multiply\n",
      "  cost = (-y * np.log(f) - (1 - y) * np.log(1 - f)).mean()\n"
     ]
    },
    {
     "name": "stdout",
     "output_type": "stream",
     "text": [
      "Iteration 3000: Cost 0.8082\n",
      "Iteration 4000: Cost 0.7731\n",
      "Iteration 5000: Cost 0.7531\n",
      "Iteration 6000: Cost 0.7393\n",
      "Iteration 7000: Cost 0.7285\n",
      "Iteration 8000: Cost 0.7193\n",
      "Iteration 9000: Cost 0.7114\n",
      "Iteration 9999: Cost 0.7043\n"
     ]
    }
   ],
   "source": [
    "np.random.seed(1)\n",
    "initial_w = 0.01 * (np.random.rand(X_train.shape[1]) - 0.5)\n",
    "initial_b = -8\n",
    "\n",
    "# Some gradient descent settings\n",
    "iterations = 10000\n",
    "alpha = 0.001\n",
    "lambda_ = 0.01\n",
    "w,b, J_history,_ = gradient_descent(X_train ,Y_train, initial_w, initial_b, \n",
    "                                   compute_cost, compute_gradient, alpha, iterations, lambda_)\n",
    "\n"
   ]
  },
  {
   "cell_type": "code",
   "execution_count": 10,
   "metadata": {
    "execution": {
     "iopub.execute_input": "2024-12-03T01:22:59.566071Z",
     "iopub.status.busy": "2024-12-03T01:22:59.565556Z",
     "iopub.status.idle": "2024-12-03T01:22:59.576535Z",
     "shell.execute_reply": "2024-12-03T01:22:59.575215Z",
     "shell.execute_reply.started": "2024-12-03T01:22:59.566018Z"
    },
    "trusted": true
   },
   "outputs": [],
   "source": [
    "def predict(X, w, b, threshold): \n",
    "    \"\"\"\n",
    "    Predict whether the label is 0 or 1 using learned logistic\n",
    "    regression parameters w\n",
    "    \n",
    "    Args:\n",
    "      X : (ndarray Shape (m,n)) data, m examples by n features\n",
    "      w : (ndarray Shape (n,))  values of parameters of the model      \n",
    "      b : (scalar)              value of bias parameter of the model\n",
    "\n",
    "    Returns:\n",
    "      p : (ndarray (m,)) The predictions for X using a threshold at 0.5\n",
    "    \"\"\"\n",
    "    # number of training examples\n",
    "    m, n = X.shape   \n",
    "    p = np.zeros(m)\n",
    "   \n",
    "    ### START CODE HERE ### \n",
    "    # Loop over each example\n",
    "    for i in range(m):   \n",
    "        z_wb = 0\n",
    "        # Loop over each feature\n",
    "        for j in range(n): \n",
    "            # Add the corresponding term to z_wb\n",
    "            z_wb += w[j] * X[i][j]\n",
    "        \n",
    "        # Add bias term \n",
    "        z_wb += b\n",
    "        \n",
    "        # Calculate the prediction for this example\n",
    "        f_wb = sigmoid(z_wb)\n",
    "\n",
    "        # Apply the threshold\n",
    "        p[i] = f_wb >= threshold\n",
    "        \n",
    "    ### END CODE HERE ### \n",
    "    return p.astype(int)\n",
    "\n",
    "\n",
    "\n",
    "\n"
   ]
  },
  {
   "cell_type": "markdown",
   "metadata": {},
   "source": [
    "## 5. Testing "
   ]
  },
  {
   "cell_type": "code",
   "execution_count": 11,
   "metadata": {},
   "outputs": [],
   "source": [
    "def MakeTestDataset(df):\n",
    "    df_filtered_X = df.drop(['Name', 'PassengerId', 'Ticket', 'Cabin'], axis=1)\n",
    "    X_training = df_filtered_X.to_numpy()\n",
    "    \n",
    "    return X_training"
   ]
  },
  {
   "cell_type": "code",
   "execution_count": 12,
   "metadata": {
    "execution": {
     "iopub.execute_input": "2024-12-03T01:22:59.578886Z",
     "iopub.status.busy": "2024-12-03T01:22:59.578327Z",
     "iopub.status.idle": "2024-12-03T01:22:59.600429Z",
     "shell.execute_reply": "2024-12-03T01:22:59.598408Z",
     "shell.execute_reply.started": "2024-12-03T01:22:59.578828Z"
    },
    "trusted": true
   },
   "outputs": [],
   "source": [
    "def getRecall(X, Y, y_hat):\n",
    "    # P(y_hat = 1 | Y = 1)\n",
    "    return ((Y == 1) & (y_hat == 1)).astype(int).sum() / (((Y == 1) & (y_hat == 0)).astype(int).sum() + ((Y == 1) & (y_hat == 1)).astype(int).sum()) \n",
    "def getPrecision(X, Y, y_hat) : \n",
    "    # P(Y = 1 | y_hat = 1)\n",
    "    return ((Y == 1) & (y_hat == 1)).astype(int).sum() / (((Y == 0) & (y_hat == 1)).astype(int).sum() + ((Y == 1) & (y_hat == 1)).astype(int).sum()) \n",
    "def getF1Score(X, Y, y_hat) :\n",
    "    return 2/((1/getPrecision(X, Y, y_hat)) + (1/getRecall(X, Y, y_hat)))\n",
    "    "
   ]
  },
  {
   "cell_type": "code",
   "execution_count": 13,
   "metadata": {
    "execution": {
     "iopub.execute_input": "2024-12-03T01:22:59.602937Z",
     "iopub.status.busy": "2024-12-03T01:22:59.602446Z",
     "iopub.status.idle": "2024-12-03T01:22:59.626328Z",
     "shell.execute_reply": "2024-12-03T01:22:59.624597Z",
     "shell.execute_reply.started": "2024-12-03T01:22:59.602881Z"
    },
    "trusted": true
   },
   "outputs": [
    {
     "data": {
      "image/png": "[encoded data removed]",
      "text/plain": [
       "<Figure size 640x480 with 1 Axes>"
      ]
     },
     "metadata": {},
     "output_type": "display_data"
    }
   ],
   "source": [
    "df_test = pd.read_csv('test.csv') \n",
    "TransformDF(df_test)\n",
    "X_test = MakeTestDataset(df_test)\n",
    "F1_history = []\n",
    "for i in range(0, 10):\n",
    "    y_hat = predict(X_train, w, b, i/10)\n",
    "    F1_history.append(getF1Score(X_train, Y_train, y_hat))\n",
    "plt.plot(range(0, 10), F1_history)\n",
    "plt.show()\n",
    "\n",
    "threshold = 0.3"
   ]
  },
  {
   "cell_type": "markdown",
   "metadata": {},
   "source": [
    "Notice that the optimal range for the threshold to maximize the F1 score is from 0.1 to 0.3. We will hereby choose threshold = 0.3."
   ]
  },
  {
   "cell_type": "markdown",
   "metadata": {},
   "source": [
    "## 6. Decision Tree Comparison\n",
    "Now, let's compare that performance to a decision tree. To do so, I will use XGBoost trees to do so."
   ]
  },
  {
   "cell_type": "code",
   "execution_count": 14,
   "metadata": {},
   "outputs": [
    {
     "name": "stdout",
     "output_type": "stream",
     "text": [
      "0.9580838323353292\n",
      "0.9815950920245399\n",
      "0.935672514619883\n"
     ]
    }
   ],
   "source": [
    "import xgboost as xgb\n",
    "import sklearn\n",
    "\n",
    "modelTree = xgb.XGBClassifier()\n",
    "modelTree.fit(X_train, Y_train)\n",
    "y_hat_Tree = modelTree.predict(X_train)\n",
    "print(getF1Score(X_train, Y_train, y_hat_Tree))\n",
    "print(getPrecision(X_train, Y_train, y_hat_Tree))\n",
    "print(getRecall(X_train, Y_train, y_hat_Tree))"
   ]
  },
  {
   "cell_type": "markdown",
   "metadata": {},
   "source": [
    "Notice that the F1 score is way higher with this method. This may be due to the fact that decision trees are better suited for problems that do not have much data and where the relation of each feature with the output is not necessarily linear. Hereby, I will use the Decision Tree prediction as the final answer."
   ]
  },
  {
   "cell_type": "markdown",
   "metadata": {},
   "source": [
    "## 7. Sending out the results"
   ]
  },
  {
   "cell_type": "code",
   "execution_count": 15,
   "metadata": {
    "execution": {
     "iopub.execute_input": "2024-12-03T01:22:59.642496Z",
     "iopub.status.busy": "2024-12-03T01:22:59.642096Z",
     "iopub.status.idle": "2024-12-03T01:22:59.707691Z",
     "shell.execute_reply": "2024-12-03T01:22:59.706312Z",
     "shell.execute_reply.started": "2024-12-03T01:22:59.642460Z"
    },
    "trusted": true
   },
   "outputs": [
    {
     "data": {
      "text/html": [
       "<div>\n",
       "<style scoped>\n",
       "    .dataframe tbody tr th:only-of-type {\n",
       "        vertical-align: middle;\n",
       "    }\n",
       "\n",
       "    .dataframe tbody tr th {\n",
       "        vertical-align: top;\n",
       "    }\n",
       "\n",
       "    .dataframe thead th {\n",
       "        text-align: right;\n",
       "    }\n",
       "</style>\n",
       "<table border=\"1\" class=\"dataframe\">\n",
       "  <thead>\n",
       "    <tr style=\"text-align: right;\">\n",
       "      <th></th>\n",
       "      <th>PassengerId</th>\n",
       "      <th>Survived</th>\n",
       "    </tr>\n",
       "  </thead>\n",
       "  <tbody>\n",
       "    <tr>\n",
       "      <th>0</th>\n",
       "      <td>892</td>\n",
       "      <td>0</td>\n",
       "    </tr>\n",
       "    <tr>\n",
       "      <th>1</th>\n",
       "      <td>893</td>\n",
       "      <td>0</td>\n",
       "    </tr>\n",
       "    <tr>\n",
       "      <th>2</th>\n",
       "      <td>894</td>\n",
       "      <td>0</td>\n",
       "    </tr>\n",
       "    <tr>\n",
       "      <th>3</th>\n",
       "      <td>895</td>\n",
       "      <td>0</td>\n",
       "    </tr>\n",
       "    <tr>\n",
       "      <th>4</th>\n",
       "      <td>896</td>\n",
       "      <td>0</td>\n",
       "    </tr>\n",
       "    <tr>\n",
       "      <th>...</th>\n",
       "      <td>...</td>\n",
       "      <td>...</td>\n",
       "    </tr>\n",
       "    <tr>\n",
       "      <th>413</th>\n",
       "      <td>1305</td>\n",
       "      <td>0</td>\n",
       "    </tr>\n",
       "    <tr>\n",
       "      <th>414</th>\n",
       "      <td>1306</td>\n",
       "      <td>1</td>\n",
       "    </tr>\n",
       "    <tr>\n",
       "      <th>415</th>\n",
       "      <td>1307</td>\n",
       "      <td>0</td>\n",
       "    </tr>\n",
       "    <tr>\n",
       "      <th>416</th>\n",
       "      <td>1308</td>\n",
       "      <td>0</td>\n",
       "    </tr>\n",
       "    <tr>\n",
       "      <th>417</th>\n",
       "      <td>1309</td>\n",
       "      <td>0</td>\n",
       "    </tr>\n",
       "  </tbody>\n",
       "</table>\n",
       "<p>418 rows × 2 columns</p>\n",
       "</div>"
      ],
      "text/plain": [
       "     PassengerId  Survived\n",
       "0            892         0\n",
       "1            893         0\n",
       "2            894         0\n",
       "3            895         0\n",
       "4            896         0\n",
       "..           ...       ...\n",
       "413         1305         0\n",
       "414         1306         1\n",
       "415         1307         0\n",
       "416         1308         0\n",
       "417         1309         0\n",
       "\n",
       "[418 rows x 2 columns]"
      ]
     },
     "metadata": {},
     "output_type": "display_data"
    },
    {
     "name": "stdout",
     "output_type": "stream",
     "text": [
      "The submission was successfully saved!\n"
     ]
    }
   ],
   "source": [
    "\n",
    "y_hat_Tree = modelTree.predict(X_test)\n",
    "dfResults = pd.DataFrame({\n",
    "    'PassengerId' : df_test['PassengerId'],\n",
    "    'Survived' : y_hat_Tree\n",
    "}, )\n",
    "display(dfResults)\n",
    "dfResults.to_csv('submission.csv', index=False)\n",
    "print(\"The submission was successfully saved!\")\n"
   ]
  }
 ],
 "metadata": {
  "kaggle": {
   "accelerator": "none",
   "dataSources": [
    {
     "databundleVersionId": 26502,
     "sourceId": 3136,
     "sourceType": "competition"
    }
   ],
   "dockerImageVersionId": 30786,
   "isGpuEnabled": false,
   "isInternetEnabled": false,
   "language": "python",
   "sourceType": "notebook"
  },
  "kernelspec": {
   "display_name": "pytorch",
   "language": "python",
   "name": "python3"
  },
  "language_info": {
   "codemirror_mode": {
    "name": "ipython",
    "version": 3
   },
   "file_extension": ".py",
   "mimetype": "text/x-python",
   "name": "python",
   "nbconvert_exporter": "python",
   "pygments_lexer": "ipython3",
   "version": "3.11.9"
  }
 },
 "nbformat": 4,
 "nbformat_minor": 4
}
